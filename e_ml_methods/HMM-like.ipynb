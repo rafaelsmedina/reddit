{
 "cells": [
  {
   "cell_type": "code",
   "execution_count": 1,
   "metadata": {
    "scrolled": true
   },
   "outputs": [],
   "source": [
    "import networkx as nx\n",
    "import datetime\n",
    "from scipy.stats import norm\n",
    "import numpy as np\n",
    "import statistics\n",
    "import pickle"
   ]
  },
  {
   "cell_type": "code",
   "execution_count": 2,
   "metadata": {},
   "outputs": [],
   "source": [
    "german_levels = ['a1', 'a2', 'b1', 'b2', 'c1', 'c2', 'beginner', 'intermediate', 'advanced', 'native']"
   ]
  },
  {
   "cell_type": "code",
   "execution_count": 3,
   "metadata": {},
   "outputs": [],
   "source": [
    "hierarchy = {\n",
    "    'beginner': 0,\n",
    "    'intermediate': 1,\n",
    "    'advanced': 2,\n",
    "    'native': 3\n",
    "}"
   ]
  },
  {
   "cell_type": "markdown",
   "metadata": {},
   "source": [
    "## Buscando os dados do subreddit"
   ]
  },
  {
   "cell_type": "code",
   "execution_count": 4,
   "metadata": {},
   "outputs": [],
   "source": [
    "g = nx.read_gpickle('../y_data/threads/nx_german_tree')"
   ]
  },
  {
   "cell_type": "code",
   "execution_count": 5,
   "metadata": {},
   "outputs": [],
   "source": [
    "users = {}"
   ]
  },
  {
   "cell_type": "code",
   "execution_count": 6,
   "metadata": {},
   "outputs": [],
   "source": [
    "for item in g.nodes():\n",
    "    if 'author' in g.node[item] and g.node[item]['author_flair']:\n",
    "        for lb in german_levels:\n",
    "            label = None\n",
    "            if lb in g.node[item]['author_flair'].lower():\n",
    "                label = lb\n",
    "                break\n",
    "\n",
    "        if label == 'a1' or label == 'a2' or label == 'beginner':\n",
    "            label = 'beginner'\n",
    "        elif label == 'b1' or label == 'b2' or label == 'intermediate':\n",
    "            label = 'intermediate'\n",
    "        elif label == 'c1' or label == 'c2' or label == 'advanced':\n",
    "            label = 'advanced'\n",
    "        else:\n",
    "            label = label\n",
    "\n",
    "        if label:\n",
    "            if g.node[item]['author'] in users:\n",
    "                users[g.node[item]['author']][g.node[item]['date']] = (label, item.strip('u').strip('\\''))\n",
    "            else:\n",
    "                users[g.node[item]['author']] = {}\n",
    "                users[g.node[item]['author']][g.node[item]['date']] = (label, item.strip('u').strip('\\''))"
   ]
  },
  {
   "cell_type": "markdown",
   "metadata": {},
   "source": [
    "## Buscando os resultados do método de ML"
   ]
  },
  {
   "cell_type": "code",
   "execution_count": 101,
   "metadata": {},
   "outputs": [],
   "source": [
    "probs = {}\n",
    "method = 'grad_boost'\n",
    "file = open('../e_ml_methods/' + method + '.csv')\n",
    "for line in file.readlines():\n",
    "    id, correct, prob = line.split(',')\n",
    "    probs[id.strip(' ')] = [float(i) for i in prob.strip(' [').strip(']\\n').split()]"
   ]
  },
  {
   "cell_type": "markdown",
   "metadata": {},
   "source": [
    "A variável `sequences` é um dicionário cujas chaves são os usuários e os valores são uma tupla. \n",
    "\n",
    "Essa tupla é composta pelas proficiências reais de todos os posts do usuário, em sequência, e três vetores de proficiência: cada um inclui a probabilidade de cada post apresentar aquele nível de proficiência (0, 1 ou 2).\n",
    "\n",
    "Exemplo, para o usuário `MrGMann13`, que apresenta 2 publicações, tem como valores da tupla:\n",
    "\n",
    "Proficiencia real: [0, 0]\n",
    "\n",
    "Probabilidades: [[0.6758515, 0.30142012], [0.2036512, 0.38559732], [0.12049726, 0.3129826]]\n",
    "\n",
    "O que representa:\n",
    "\n",
    "|            \t| Post 1     \t| Post 2     \t|\n",
    "|------------\t|------------\t|------------\t|\n",
    "| Valor real \t| 0          \t| 0          \t|\n",
    "| Prob(=0)   \t| 0.6758515  \t| 0.30142012 \t|\n",
    "| Prob(=1)   \t| 0.2036512  \t| 0.38559732 \t|\n",
    "| Prob(=2)   \t| 0.12049726 \t| 0.3129826  \t|\n",
    "\n",
    "A próxima célula é responsável por criar esta variável."
   ]
  },
  {
   "cell_type": "code",
   "execution_count": 102,
   "metadata": {},
   "outputs": [],
   "source": [
    "sequences = {}\n",
    "for user in users:\n",
    "\n",
    "    profs = []\n",
    "\n",
    "    beg = []\n",
    "    inte = []\n",
    "    adv = []\n",
    "    probabilities = [beg, inte, adv]\n",
    "\n",
    "    l = users[user].keys()\n",
    "    before = None\n",
    "\n",
    "    seq = True\n",
    "    for item in sorted(l):\n",
    "\n",
    "        profs.append(hierarchy[users[user][item][0]])\n",
    "\n",
    "        if str(users[user][item][1]) in probs:\n",
    "\n",
    "            beg.append(probs[str(users[user][item][1])][0])\n",
    "            inte.append(probs[str(users[user][item][1])][1])\n",
    "            adv.append(probs[str(users[user][item][1])][2])\n",
    "        else:\n",
    "            seq = False\n",
    "\n",
    "        if before == None:\n",
    "            before = item\n",
    "        else:\n",
    "            if hierarchy[users[user][item][0]] < hierarchy[users[user][before][0]]:\n",
    "                seq = False\n",
    "\n",
    "        if not seq:\n",
    "            break\n",
    "\n",
    "    if seq and len(profs) > 1 and 3 not in profs:\n",
    "        sequences[user] = (profs, probabilities)\n",
    "        b.append(profs)"
   ]
  },
  {
   "cell_type": "markdown",
   "metadata": {},
   "source": [
    "Nota: fiz um teste (à mão mesmo!!!) pra conferir e os dois métodos possuem o mesmo vetor de sequencias (mesmos usuários, mesmos posts), só mudam as probabilidades (métodos diferentes, probabilidades diferentes!). \n",
    "\n",
    "(rodei o método duas vezes e salvei a coluna de probabilidades reais em duas variaveis diferentes, e depois comparei ambas)"
   ]
  },
  {
   "cell_type": "markdown",
   "metadata": {},
   "source": [
    "## Inicializando o HMM-like"
   ]
  },
  {
   "cell_type": "code",
   "execution_count": 103,
   "metadata": {},
   "outputs": [],
   "source": [
    "values = {0:0, 1:0, 2:0}\n",
    "corretos = []\n",
    "c=0\n",
    "t=0\n",
    "sequencias_possiveis = ['0', '1', '2', '01', '02', '12', '012']\n",
    "real = {}\n",
    "predito = {}\n",
    "porc_pred = {}\n",
    "mean_p = {}\n",
    "for seq in sequencias_possiveis:\n",
    "    real[seq] = 0\n",
    "    predito[seq] = 0\n",
    "    porc_pred[seq] = []\n",
    "    mean_p[seq] = []"
   ]
  },
  {
   "cell_type": "code",
   "execution_count": 104,
   "metadata": {},
   "outputs": [],
   "source": [
    "# para cada usuário\n",
    "for user in sequences:\n",
    "    # salvo as proficiências reais dele\n",
    "    proficiencias = sequences[user][0]\n",
    "    # N = número de posts\n",
    "    N = len(proficiencias)\n",
    "    \n",
    "    log_prob = np.asarray(sequences[user][1])\n",
    "\n",
    "    sum_to_end = np.cumsum(log_prob[:,::-1],1)[:,::-1]\n",
    "\n",
    "    R = log_prob.copy()\n",
    "    first_change = np.ones(2)*N\n",
    "    R[2,:] = np.cumsum(log_prob[2,::-1])[::-1]\n",
    "\n",
    "    \n",
    "    # aplicação do método\n",
    "    for j in range(1,-1,-1):\n",
    "        for i in range(N-1,-1,-1):\n",
    "            rew_stay = log_prob[j,i]+R[j,i+1] if i < N-1 else log_prob[j,i]\n",
    "            R[j,i] = max(rew_stay,R[j+1,i])\n",
    "            if rew_stay < R[j+1,i]:\n",
    "                first_change[j] = min(first_change[j],i)\n",
    "                \n",
    "    lista = []\n",
    "    if int(first_change[1]) >= int(first_change[0]):\n",
    "        for i in range(0, int(first_change[0])):\n",
    "            lista.append(0)\n",
    "        for i in range(int(first_change[0]), int(first_change[1])):\n",
    "            lista.append(1)\n",
    "        for i in range(int(first_change[1]), len(proficiencias)):\n",
    "            lista.append(2)\n",
    "    else:\n",
    "        for i in range(0, int(first_change[1])):\n",
    "            lista.append(0)\n",
    "        for i in range(int(first_change[1]), len(proficiencias)):\n",
    "            lista.append(2)\n",
    "\n",
    "    key = None\n",
    "    if 0 in proficiencias and 1 not in proficiencias and 2 not in proficiencias:\n",
    "        real['0'] = real['0'] + 1\n",
    "        key = '0'\n",
    "    elif 0 not in proficiencias and 1 in proficiencias and 2 not in proficiencias:\n",
    "        real['1'] = real['1'] + 1\n",
    "        key = '1'\n",
    "    elif 0 not in proficiencias and 1 not in proficiencias and 2 in proficiencias:\n",
    "        real['2'] = real['2'] + 1\n",
    "        key = '2'\n",
    "    elif 0 in proficiencias and 1 in proficiencias and 2 not in proficiencias:\n",
    "        real['01'] = real['01'] + 1\n",
    "        key = '01'\n",
    "    elif 0 in proficiencias and 1 not in proficiencias and 2 in proficiencias:\n",
    "        real['02'] = real['02'] + 1\n",
    "        key = '02'\n",
    "    elif 0 not in proficiencias and 1 in proficiencias and 2 in proficiencias:\n",
    "        real['12'] = real['12'] + 1\n",
    "        key = '12'\n",
    "    elif 0 in proficiencias and 1 in proficiencias and 2 in proficiencias:\n",
    "        real['012'] = real['012'] + 1\n",
    "        key = '012'\n",
    "\n",
    "    if 0 in lista and 1 not in lista and 2 not in lista:\n",
    "        predito['0'] = predito['0'] + 1\n",
    "    elif 0 not in lista and 1 in lista and 2 not in lista:\n",
    "        predito['1'] = predito['1'] + 1\n",
    "    elif 0 not in lista and 1 not in lista and 2 in lista:\n",
    "        predito['2'] = predito['2'] + 1\n",
    "    elif 0 in lista and 1 in lista and 2 not in lista:\n",
    "        predito['01'] = predito['01'] + 1\t\n",
    "    elif 0 in lista and 1 not in lista and 2 in lista:\n",
    "        predito['02'] = predito['02'] + 1\n",
    "    elif 0 not in lista and 1 in lista and 2 in lista:\n",
    "        predito['12'] = predito['12'] + 1\n",
    "    elif 0 in lista and 1 in lista and 2 in lista:\n",
    "        predito['012'] = predito['012'] + 1\n",
    "\n",
    "    certos = 0\n",
    "    total = 0\n",
    "    for i in range(0, len(lista)):\n",
    "        if proficiencias[i] == lista[i]:\n",
    "            certos = certos + 1\n",
    "            c=c+1\n",
    "        total = total + 1\n",
    "        t=t+1\n",
    "        values[proficiencias[i]] = values[proficiencias[i]] + 1\n",
    "    corretos.append((float(certos)/float(total))*100)\n",
    "    porc_pred[key].append(float(certos)/float(total))\n",
    "    mean_p[key].append(len(user))"
   ]
  },
  {
   "cell_type": "code",
   "execution_count": 105,
   "metadata": {},
   "outputs": [
    {
     "name": "stdout",
     "output_type": "stream",
     "text": [
      "grad_boost\n",
      "media dos acertos por post: 60.6184027668\n",
      "quantidade de posts corretamente etiquetados: 62.74\n",
      "total de posts: 9099\n",
      "classificação dos posts:  {0: 3973, 1: 3763, 2: 1363}\n",
      "sequencias reais:  {'02': 3, '12': 16, '01': 43, '1': 417, '0': 606, '012': 2, '2': 132}\n",
      "sequencias preditas:  {'02': 22, '12': 81, '01': 342, '1': 535, '0': 176, '012': 35, '2': 28}\n",
      "\n",
      "Porcentagem de acertos por grupo de usuarios: \n",
      "02 0.2\n",
      "12 0.62675938658\n",
      "01 0.669017731622\n",
      "1 0.889572886874\n",
      "0 0.480729343073\n",
      "012 0.723577235772\n",
      "2 0.271374143043\n",
      "\n",
      "Media de posts por usuario: \n",
      "02 13.6666666667\n",
      "12 10.8125\n",
      "01 9.81395348837\n",
      "1 10.7170263789\n",
      "0 10.6254125413\n",
      "012 8.5\n",
      "2 10.8181818182\n"
     ]
    }
   ],
   "source": [
    "print method\n",
    "print 'media dos acertos por post:', statistics.mean(corretos)\n",
    "print 'quantidade de posts corretamente etiquetados:', \"{0:.2f}\".format((float(c)/float(t))*100)\n",
    "print 'total de posts:', t\n",
    "print 'classificação dos posts: ', values\n",
    "print 'sequencias reais: ', real\n",
    "print 'sequencias preditas: ', predito\n",
    "print '\\nPorcentagem de acertos por grupo de usuarios: '\n",
    "for key in porc_pred:\n",
    "    print key, statistics.mean(porc_pred[key])\n",
    "\n",
    "print '\\nMedia de posts por usuario: '\n",
    "for key in mean_p:\n",
    "    print key, statistics.mean(mean_p[key])"
   ]
  },
  {
   "cell_type": "code",
   "execution_count": null,
   "metadata": {},
   "outputs": [],
   "source": [
    "{'02': 3, '12': 16, '01': 43, '1': 417, '0': 606, '012': 2, '2': 132}\n",
    "{'02': 3, '12': 16, '01': 43, '1': 417, '0': 606, '012': 2, '2': 132}"
   ]
  },
  {
   "cell_type": "code",
   "execution_count": null,
   "metadata": {},
   "outputs": [],
   "source": [
    "{'02': 17, '12': 82, '01': 342, '1': 572, '0': 148, '012': 31, '2': 27}\n",
    "{'02': 22, '12': 81, '01': 342, '1': 535, '0': 176, '012': 35, '2': 28}"
   ]
  }
 ],
 "metadata": {
  "kernelspec": {
   "display_name": "Python 2",
   "language": "python",
   "name": "python2"
  },
  "language_info": {
   "codemirror_mode": {
    "name": "ipython",
    "version": 2
   },
   "file_extension": ".py",
   "mimetype": "text/x-python",
   "name": "python",
   "nbconvert_exporter": "python",
   "pygments_lexer": "ipython2",
   "version": "2.7.15"
  }
 },
 "nbformat": 4,
 "nbformat_minor": 2
}
